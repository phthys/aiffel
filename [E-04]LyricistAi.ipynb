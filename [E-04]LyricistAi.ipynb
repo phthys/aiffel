{
 "cells": [
  {
   "cell_type": "markdown",
   "id": "b2e9fcb4",
   "metadata": {},
   "source": [
    "# 멋진 작사가 만들기 프로젝트"
   ]
  },
  {
   "cell_type": "markdown",
   "id": "bdea5388",
   "metadata": {},
   "source": [
    "### 사용할 모듈 불러오기"
   ]
  },
  {
   "cell_type": "code",
   "execution_count": 1,
   "id": "5e248476",
   "metadata": {},
   "outputs": [],
   "source": [
    "import glob\n",
    "import os, re\n",
    "import numpy as np\n",
    "import tensorflow as tf"
   ]
  },
  {
   "cell_type": "markdown",
   "id": "d2965a2b",
   "metadata": {},
   "source": [
    "---\n",
    "### 데이터 읽어오기"
   ]
  },
  {
   "cell_type": "code",
   "execution_count": 2,
   "id": "cbba6808",
   "metadata": {},
   "outputs": [
    {
     "name": "stdout",
     "output_type": "stream",
     "text": [
      "데이터 크기: 187088\n",
      "Examples:\n",
      " [\"Now I've heard there was a secret chord\", 'That David played, and it pleased the Lord', \"But you don't really care for music, do you?\"]\n"
     ]
    }
   ],
   "source": [
    "txt_file_path = os.getenv('HOME')+'/aiffel/lyricist/data/lyrics/*'\n",
    "txt_list = glob.glob(txt_file_path)\n",
    "\n",
    "# txt 파일을 모두 읽어서 raw_corpus 에 담아준다.\n",
    "raw_corpus = []\n",
    "for txt_file in txt_list:\n",
    "    with open(txt_file, \"r\") as f:\n",
    "        raw = f.read().splitlines()\n",
    "        raw_corpus.extend(raw)\n",
    "\n",
    "print(\"데이터 크기:\", len(raw_corpus))\n",
    "print(\"Examples:\\n\", raw_corpus[:3])"
   ]
  },
  {
   "cell_type": "markdown",
   "id": "88a54d1f",
   "metadata": {},
   "source": [
    "---\n",
    "### 데이터 정제하기"
   ]
  },
  {
   "cell_type": "code",
   "execution_count": 3,
   "id": "13f84028",
   "metadata": {},
   "outputs": [],
   "source": [
    "# 입력된 문장을 정제하는 함수!\n",
    "# 1. 소문자로 바꾸고, 양쪽 공백을 지워준다\n",
    "# 2. 특수문자 양쪽에 공백을 넣는다\n",
    "# 3. 여러개의 공백은 하나의 공백으로 변경\n",
    "# 4. a-zA-Z?.!,¿가 아닌 모든 문자를 하나의 공백으로 변경\n",
    "# 5. 다시 양쪽 공백을 지운다\n",
    "# 6. 시작에 <start>, 끝에 <end>를 추가\n",
    "\n",
    "def preprocess_sentence(sentence):\n",
    "    sentence = sentence.lower().strip() # 1\n",
    "    sentence = re.sub(r\"([?.!,¿])\", r\" \\1 \", sentence) # 2\n",
    "    sentence = re.sub(r'[\" \"]+', \" \", sentence) # 3\n",
    "    sentence = re.sub(r\"[^a-zA-Z?.!,¿]+\", \" \", sentence) # 4\n",
    "    sentence = sentence.strip() # 5\n",
    "    sentence = '<start> ' + sentence + ' <end>' # 6\n",
    "    \n",
    "    return sentence"
   ]
  },
  {
   "cell_type": "code",
   "execution_count": 4,
   "id": "4a216223",
   "metadata": {
    "scrolled": true
   },
   "outputs": [
    {
     "data": {
      "text/plain": [
       "['<start> now i ve heard there was a secret chord <end>',\n",
       " '<start> that david played , and it pleased the lord <end>',\n",
       " '<start> but you don t really care for music , do you ? <end>',\n",
       " '<start> it goes like this <end>',\n",
       " '<start> the fourth , the fifth <end>',\n",
       " '<start> the minor fall , the major lift <end>',\n",
       " '<start> the baffled king composing hallelujah hallelujah <end>',\n",
       " '<start> hallelujah <end>',\n",
       " '<start> hallelujah <end>',\n",
       " '<start> hallelujah your faith was strong but you needed proof <end>']"
      ]
     },
     "execution_count": 4,
     "metadata": {},
     "output_type": "execute_result"
    }
   ],
   "source": [
    "# 정제된 문장을 모을 리스트 \n",
    "corpus = []\n",
    "\n",
    "for sentence in raw_corpus:\n",
    "    # 원하지 않는 문장은 건너뛰기!\n",
    "    if len(sentence) == 0: continue\n",
    "    if sentence[-1] == \":\": continue\n",
    "\n",
    "    # 정제된 문장을 담아준다\n",
    "    preprocessed_sentence = preprocess_sentence(sentence)\n",
    "    \n",
    "    # 토큰 개수가 15개 이상인 문장을 걸러주기 위해서\n",
    "    # count 변수를 만들고, 정제된 문장에 있는 띄어쓰기 개수를 센다.\n",
    "    count = 0\n",
    "    for i in preprocessed_sentence:\n",
    "        if i == ' ':\n",
    "            count +=1\n",
    "    \n",
    "    # 띄어쓰기 개수가 14개를 넘어가면 토큰이 15개 이상이라는 것!\n",
    "    # 원하지 않는 문장은 건너뛰기!\n",
    "    if count > 14: continue\n",
    "    \n",
    "    # 건너뛰지 않은 문장들만 corpus에 담긴다.\n",
    "    corpus.append(preprocessed_sentence)\n",
    "        \n",
    "# 정제된 결과의 예시 확인~~\n",
    "corpus[:10]"
   ]
  },
  {
   "cell_type": "code",
   "execution_count": 5,
   "id": "ab609856",
   "metadata": {},
   "outputs": [
    {
     "name": "stdout",
     "output_type": "stream",
     "text": [
      "[[   2   50    4 ...    0    0    0]\n",
      " [   2   15 2967 ...    0    0    0]\n",
      " [   2   33    7 ...   46    3    0]\n",
      " ...\n",
      " [   2    4  118 ...    0    0    0]\n",
      " [   2  258  194 ...   12    3    0]\n",
      " [   2    7   34 ...    0    0    0]] <keras_preprocessing.text.Tokenizer object at 0x7ff54a2e30d0>\n"
     ]
    }
   ],
   "source": [
    "# 토큰화 할 때 텐서플로우의 Tokenizer와 pad_sequences를 사용!\n",
    "# 정제된 문장이 담긴 corpus를 받아 토큰화를 하는 함수\n",
    "def tokenize(corpus):\n",
    "    # 15000단어를 기억할 수 있는 tokenizer\n",
    "    # 문장은 이미 정제됐으니 filter는 필요 없음\n",
    "    # 15000단어에 포함되지 못한 단어는 '<unk>'로 변경\n",
    "    tokenizer = tf.keras.preprocessing.text.Tokenizer(\n",
    "        num_words=15000, \n",
    "        filters=' ',\n",
    "        oov_token=\"<unk>\"\n",
    "    )\n",
    "    # corpus를 이용해 tokenizer 내부의 단어장을 완성\n",
    "    tokenizer.fit_on_texts(corpus)\n",
    "    # tokenizer를 이용해 corpus를 Tensor로 변환\n",
    "    tensor = tokenizer.texts_to_sequences(corpus)   \n",
    "    # 입력 데이터의 시퀀스 길이를 일정하게 맞춰준다\n",
    "    # 만약 시퀀스가 짧다면 문장 뒤에 패딩을 붙여 길이를 맞춰준다\n",
    "    tensor = tf.keras.preprocessing.sequence.pad_sequences(tensor, padding='post')  \n",
    "    \n",
    "    print(tensor,tokenizer)\n",
    "    return tensor, tokenizer\n",
    "\n",
    "tensor, tokenizer = tokenize(corpus)"
   ]
  },
  {
   "cell_type": "code",
   "execution_count": 6,
   "id": "b69e7a7c",
   "metadata": {},
   "outputs": [
    {
     "name": "stdout",
     "output_type": "stream",
     "text": [
      "[   2   50    4   95  303   62   53    9  946 6263    3    0    0    0]\n",
      "[  50    4   95  303   62   53    9  946 6263    3    0    0    0    0]\n"
     ]
    }
   ],
   "source": [
    "# tensor에서 마지막 토큰을 잘라내서 소스 문장 생성\n",
    "src_input = tensor[:, :-1]  \n",
    "# tensor에서 <start>를 잘라내서 타겟 문장을 생성\n",
    "tgt_input = tensor[:, 1:]    \n",
    "\n",
    "print(src_input[0])\n",
    "print(tgt_input[0])"
   ]
  },
  {
   "cell_type": "markdown",
   "id": "c8a393ed",
   "metadata": {},
   "source": [
    "---\n",
    "### 평가 데이터셋 분리"
   ]
  },
  {
   "cell_type": "code",
   "execution_count": 7,
   "id": "8557613f",
   "metadata": {},
   "outputs": [],
   "source": [
    "# 사이킷런의 train_test_split 함수를 사용해\n",
    "# 소스 문장과 타겟 문장을 훈련 데이터와 평가 데이터로 분리\n",
    "from sklearn.model_selection import train_test_split\n",
    "\n",
    "enc_train, enc_val, dec_train, dec_val = train_test_split(src_input,\n",
    "                                                          tgt_input,\n",
    "                                                          test_size=0.2,\n",
    "                                                          random_state=15\n",
    "                                                         )"
   ]
  },
  {
   "cell_type": "code",
   "execution_count": 8,
   "id": "2888c674",
   "metadata": {},
   "outputs": [
    {
     "name": "stdout",
     "output_type": "stream",
     "text": [
      "Source Train: (124810, 14)\n",
      "Target Train: (124810, 14)\n"
     ]
    }
   ],
   "source": [
    "print(\"Source Train:\", enc_train.shape)\n",
    "print(\"Target Train:\", dec_train.shape)"
   ]
  },
  {
   "cell_type": "code",
   "execution_count": 9,
   "id": "53426d14",
   "metadata": {},
   "outputs": [
    {
     "data": {
      "text/plain": [
       "<BatchDataset shapes: ((256, 14), (256, 14)), types: (tf.int32, tf.int32)>"
      ]
     },
     "execution_count": 9,
     "metadata": {},
     "output_type": "execute_result"
    }
   ],
   "source": [
    "BUFFER_SIZE = len(enc_train)\n",
    "BATCH_SIZE = 256\n",
    "steps_per_epoch = len(enc_train) // BATCH_SIZE\n",
    "\n",
    " # tokenizer가 구축한 단어사전 내 15000개와, 여기 포함되지 않은 0:<pad>를 포함하여 15001개\n",
    "VOCAB_SIZE = tokenizer.num_words + 1   \n",
    "\n",
    "# 준비한 데이터 소스로부터 데이터셋을 만든다\n",
    "dataset = tf.data.Dataset.from_tensor_slices((enc_train, dec_train))\n",
    "dataset = dataset.shuffle(BUFFER_SIZE)\n",
    "dataset = dataset.batch(BATCH_SIZE, drop_remainder=True)\n",
    "dataset"
   ]
  },
  {
   "cell_type": "markdown",
   "id": "bcf07023",
   "metadata": {},
   "source": [
    "---\n",
    "### 인공지능 만들고 학습시키기"
   ]
  },
  {
   "cell_type": "code",
   "execution_count": 10,
   "id": "41b305a4",
   "metadata": {},
   "outputs": [],
   "source": [
    "class TextGenerator(tf.keras.Model):\n",
    "    def __init__(self, vocab_size, embedding_size, hidden_size):\n",
    "        super().__init__()\n",
    "        \n",
    "        self.embedding = tf.keras.layers.Embedding(vocab_size, embedding_size)\n",
    "        self.rnn_1 = tf.keras.layers.LSTM(hidden_size, return_sequences=True)\n",
    "        self.rnn_2 = tf.keras.layers.LSTM(hidden_size, return_sequences=True)\n",
    "        self.linear = tf.keras.layers.Dense(vocab_size)\n",
    "        \n",
    "    def call(self, x):\n",
    "        out = self.embedding(x)\n",
    "        out = self.rnn_1(out)\n",
    "        out = self.rnn_2(out)\n",
    "        out = self.linear(out)\n",
    "        \n",
    "        return out\n",
    "    \n",
    "embedding_size = 500\n",
    "hidden_size = 2000\n",
    "lyricist = TextGenerator(tokenizer.num_words + 1, embedding_size , hidden_size)"
   ]
  },
  {
   "cell_type": "code",
   "execution_count": 11,
   "id": "9629d4d7",
   "metadata": {
    "scrolled": false
   },
   "outputs": [],
   "source": [
    "optimizer = tf.keras.optimizers.Adam()\n",
    "loss = tf.keras.losses.SparseCategoricalCrossentropy(\n",
    "    from_logits=True, reduction='none')"
   ]
  },
  {
   "cell_type": "code",
   "execution_count": 12,
   "id": "b5d11f8c",
   "metadata": {},
   "outputs": [
    {
     "name": "stdout",
     "output_type": "stream",
     "text": [
      "Epoch 1/10\n",
      "487/487 [==============================] - 309s 563ms/step - loss: 3.4652 - val_loss: 3.0077\n",
      "Epoch 2/10\n",
      "487/487 [==============================] - 285s 585ms/step - loss: 2.8692 - val_loss: 2.7795\n",
      "Epoch 3/10\n",
      "487/487 [==============================] - 285s 585ms/step - loss: 2.6023 - val_loss: 2.6091\n",
      "Epoch 4/10\n",
      "487/487 [==============================] - 285s 586ms/step - loss: 2.3310 - val_loss: 2.4719\n",
      "Epoch 5/10\n",
      "487/487 [==============================] - 285s 586ms/step - loss: 2.0672 - val_loss: 2.3644\n",
      "Epoch 6/10\n",
      "487/487 [==============================] - 286s 587ms/step - loss: 1.8173 - val_loss: 2.2857\n",
      "Epoch 7/10\n",
      "487/487 [==============================] - 286s 587ms/step - loss: 1.5911 - val_loss: 2.2307\n",
      "Epoch 8/10\n",
      "487/487 [==============================] - 285s 585ms/step - loss: 1.3964 - val_loss: 2.1953\n",
      "Epoch 9/10\n",
      "487/487 [==============================] - 285s 586ms/step - loss: 1.2374 - val_loss: 2.1891\n",
      "Epoch 10/10\n",
      "487/487 [==============================] - 286s 586ms/step - loss: 1.1222 - val_loss: 2.1979\n"
     ]
    },
    {
     "data": {
      "text/plain": [
       "<keras.callbacks.History at 0x7ff53050d8e0>"
      ]
     },
     "execution_count": 12,
     "metadata": {},
     "output_type": "execute_result"
    }
   ],
   "source": [
    "lyricist.compile(loss=loss, optimizer=optimizer)\n",
    "lyricist.fit(dataset, epochs=10, validation_data = (enc_val, dec_val))"
   ]
  },
  {
   "cell_type": "markdown",
   "id": "ce0efed6",
   "metadata": {},
   "source": [
    "---\n",
    "### 테스트~"
   ]
  },
  {
   "cell_type": "code",
   "execution_count": 13,
   "id": "d6c14b1f",
   "metadata": {},
   "outputs": [],
   "source": [
    "# 문장 만들어주는 함수\n",
    "def generate_text(model, tokenizer, init_sentence=\"<start>\", max_len=20):\n",
    "    # 테스트를 위해서 입력받은 init_sentence도 텐서로 변환\n",
    "    test_input = tokenizer.texts_to_sequences([init_sentence])\n",
    "    test_tensor = tf.convert_to_tensor(test_input, dtype=tf.int64)\n",
    "    end_token = tokenizer.word_index[\"<end>\"]\n",
    "\n",
    "    # 단어를 하나씩 예측해 문장을 만든다\n",
    "    # 1. 입력받은 문장의 텐서를 입력한다\n",
    "    # 2. 예측된 값 중 가장 높은 확률인 word index를 뽑아낸다\n",
    "    # 3. 2에서 예측된 word index를 문장 뒤에 붙이고,\n",
    "    # 또 붙이고, 붙이고, 반복하다가~\n",
    "    # 4. 모델이 <end>를 예측했거나, max_len에 도달했다면 문장 생성 끝!\n",
    "    while True:\n",
    "        # 1\n",
    "        predict = model(test_tensor) \n",
    "        # 2\n",
    "        predict_word = tf.argmax(tf.nn.softmax(predict, axis=-1), axis=-1)[:, -1] \n",
    "        # 3 \n",
    "        test_tensor = tf.concat([test_tensor, tf.expand_dims(predict_word, axis=0)], axis=-1)\n",
    "        # 4\n",
    "        if predict_word.numpy()[0] == end_token: break\n",
    "        if test_tensor.shape[1] >= max_len: break\n",
    "\n",
    "    generated = \"\"\n",
    "    # tokenizer를 이용해 word index를 단어로 하나씩 변환한다\n",
    "    for word_index in test_tensor[0].numpy():\n",
    "        generated += tokenizer.index_word[word_index] + \" \"\n",
    "\n",
    "    return generated"
   ]
  },
  {
   "cell_type": "code",
   "execution_count": 15,
   "id": "fb2e9710",
   "metadata": {
    "scrolled": true
   },
   "outputs": [
    {
     "data": {
      "text/plain": [
       "'<start> i m gonna be good to you <end> '"
      ]
     },
     "execution_count": 15,
     "metadata": {},
     "output_type": "execute_result"
    }
   ],
   "source": [
    "generate_text(lyricist, tokenizer, init_sentence=\"<start> i\", max_len=20)"
   ]
  },
  {
   "cell_type": "code",
   "execution_count": 19,
   "id": "0fe84085",
   "metadata": {},
   "outputs": [
    {
     "data": {
      "text/plain": [
       "'<start> you are the only one <end> '"
      ]
     },
     "execution_count": 19,
     "metadata": {},
     "output_type": "execute_result"
    }
   ],
   "source": [
    "generate_text(lyricist, tokenizer, init_sentence=\"<start> you are\", max_len=20)"
   ]
  },
  {
   "cell_type": "code",
   "execution_count": 20,
   "id": "0de04c0a",
   "metadata": {},
   "outputs": [
    {
     "data": {
      "text/plain": [
       "'<start> is it just a lie <end> '"
      ]
     },
     "execution_count": 20,
     "metadata": {},
     "output_type": "execute_result"
    }
   ],
   "source": [
    "generate_text(lyricist, tokenizer, init_sentence=\"<start> is\", max_len=20)"
   ]
  },
  {
   "cell_type": "markdown",
   "id": "293c4b1b",
   "metadata": {},
   "source": [
    "---\n",
    "## 회고\n",
    "- 토큰 개수 제한을 맞추는게 조금 어려웠다. 토큰이란 개념 자체가 생소해서 그랬던걸지도?..   \n",
    "  띄어쓰기로 토큰을 나눈다는 걸 알게되서, 정제된 문장을 corpus에 넣는 과정에서,   \n",
    "  문장마다 반복문으로 띄어쓰기 개수를 세어줬고, 띄어쓰기 개수가 일정치를 넘어가는 문장을 걸러냈다.   \n",
    "  어떻게 하는건지 처음엔 감을 못잡고있다가, 제일 먼저 시도해봤던 방법이 바로 성공해서 기분 좋았다!   \n",
    "- 루브릭 평가지표 중 validation loss를 2.2 밑으로 내리는걸 만족시켜보려고,   \n",
    "  embedding_size와 hidden_size 값을 여러번 고쳐가면서 학습시켰는데,   \n",
    "  한번 할때마다 4~50분이 걸렸다.\n",
    "  학습시키는 시간이 길다보니까 기다리는게 고역이었다......   \n",
    "  그래도 결국은 2.2 밑으로 내리는데 성공했다!!   \n"
   ]
  }
 ],
 "metadata": {
  "kernelspec": {
   "display_name": "Python 3 (ipykernel)",
   "language": "python",
   "name": "python3"
  },
  "language_info": {
   "codemirror_mode": {
    "name": "ipython",
    "version": 3
   },
   "file_extension": ".py",
   "mimetype": "text/x-python",
   "name": "python",
   "nbconvert_exporter": "python",
   "pygments_lexer": "ipython3",
   "version": "3.9.7"
  }
 },
 "nbformat": 4,
 "nbformat_minor": 5
}
