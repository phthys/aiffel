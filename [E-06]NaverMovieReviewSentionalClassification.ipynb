{
 "cells": [
  {
   "cell_type": "markdown",
   "id": "186aa0eb",
   "metadata": {},
   "source": [
    "# 네이버 영화 리뷰 감성 분석 도전하기 프로젝트"
   ]
  },
  {
   "cell_type": "markdown",
   "id": "f8e23e53",
   "metadata": {},
   "source": [
    "## 모듈 불러오기"
   ]
  },
  {
   "cell_type": "code",
   "execution_count": 1,
   "id": "055ba37f",
   "metadata": {},
   "outputs": [],
   "source": [
    "import pandas as pd\n",
    "import tensorflow as tf\n",
    "import urllib.request\n",
    "%matplotlib inline\n",
    "import matplotlib.pyplot as plt\n",
    "import re\n",
    "from konlpy.tag import Okt\n",
    "from tensorflow import keras\n",
    "from tensorflow.keras.preprocessing.text import Tokenizer\n",
    "import numpy as np\n",
    "from tensorflow.keras.preprocessing.sequence import pad_sequences\n",
    "from collections import Counter\n",
    "import os\n",
    "import gensim\n",
    "from gensim.models.keyedvectors import Word2VecKeyedVectors\n",
    "from tensorflow.keras.initializers import Constant\n",
    "from gensim.models import KeyedVectors\n",
    "from konlpy.tag import Mecab\n",
    "\n",
    "from sklearn.model_selection import train_test_split\n",
    "from keras.callbacks import EarlyStopping\n"
   ]
  },
  {
   "cell_type": "markdown",
   "id": "519c7304",
   "metadata": {},
   "source": [
    "## 데이터 읽어오기"
   ]
  },
  {
   "cell_type": "code",
   "execution_count": 2,
   "id": "36016f97",
   "metadata": {},
   "outputs": [
    {
     "data": {
      "text/html": [
       "<div>\n",
       "<style scoped>\n",
       "    .dataframe tbody tr th:only-of-type {\n",
       "        vertical-align: middle;\n",
       "    }\n",
       "\n",
       "    .dataframe tbody tr th {\n",
       "        vertical-align: top;\n",
       "    }\n",
       "\n",
       "    .dataframe thead th {\n",
       "        text-align: right;\n",
       "    }\n",
       "</style>\n",
       "<table border=\"1\" class=\"dataframe\">\n",
       "  <thead>\n",
       "    <tr style=\"text-align: right;\">\n",
       "      <th></th>\n",
       "      <th>id</th>\n",
       "      <th>document</th>\n",
       "      <th>label</th>\n",
       "    </tr>\n",
       "  </thead>\n",
       "  <tbody>\n",
       "    <tr>\n",
       "      <th>0</th>\n",
       "      <td>9976970</td>\n",
       "      <td>아 더빙.. 진짜 짜증나네요 목소리</td>\n",
       "      <td>0</td>\n",
       "    </tr>\n",
       "    <tr>\n",
       "      <th>1</th>\n",
       "      <td>3819312</td>\n",
       "      <td>흠...포스터보고 초딩영화줄....오버연기조차 가볍지 않구나</td>\n",
       "      <td>1</td>\n",
       "    </tr>\n",
       "    <tr>\n",
       "      <th>2</th>\n",
       "      <td>10265843</td>\n",
       "      <td>너무재밓었다그래서보는것을추천한다</td>\n",
       "      <td>0</td>\n",
       "    </tr>\n",
       "    <tr>\n",
       "      <th>3</th>\n",
       "      <td>9045019</td>\n",
       "      <td>교도소 이야기구먼 ..솔직히 재미는 없다..평점 조정</td>\n",
       "      <td>0</td>\n",
       "    </tr>\n",
       "    <tr>\n",
       "      <th>4</th>\n",
       "      <td>6483659</td>\n",
       "      <td>사이몬페그의 익살스런 연기가 돋보였던 영화!스파이더맨에서 늙어보이기만 했던 커스틴 ...</td>\n",
       "      <td>1</td>\n",
       "    </tr>\n",
       "  </tbody>\n",
       "</table>\n",
       "</div>"
      ],
      "text/plain": [
       "         id                                           document  label\n",
       "0   9976970                                아 더빙.. 진짜 짜증나네요 목소리      0\n",
       "1   3819312                  흠...포스터보고 초딩영화줄....오버연기조차 가볍지 않구나      1\n",
       "2  10265843                                  너무재밓었다그래서보는것을추천한다      0\n",
       "3   9045019                      교도소 이야기구먼 ..솔직히 재미는 없다..평점 조정      0\n",
       "4   6483659  사이몬페그의 익살스런 연기가 돋보였던 영화!스파이더맨에서 늙어보이기만 했던 커스틴 ...      1"
      ]
     },
     "execution_count": 2,
     "metadata": {},
     "output_type": "execute_result"
    }
   ],
   "source": [
    "# 데이터를 읽어봅시다. \n",
    "train_data = pd.read_table('~/aiffel/sentiment_classification/data/ratings_train.txt')\n",
    "test_data = pd.read_table('~/aiffel/sentiment_classification/data/ratings_test.txt')\n",
    "\n",
    "train_data.head()"
   ]
  },
  {
   "cell_type": "markdown",
   "id": "042b18f0",
   "metadata": {},
   "source": [
    "## 데이터 로더 구성"
   ]
  },
  {
   "cell_type": "code",
   "execution_count": 3,
   "id": "4b2af430",
   "metadata": {},
   "outputs": [],
   "source": [
    "tokenizer = Mecab()\n",
    "stopwords = ['의','가','이','은','들','는','좀','잘','걍','과','도','를','으로','자','에','와','한','하다']\n",
    "\n",
    "def load_data(train_data, test_data, num_words=10000):\n",
    "    train_data.drop_duplicates(subset=['document'], inplace=True)\n",
    "    train_data = train_data.dropna(how = 'any') \n",
    "    test_data.drop_duplicates(subset=['document'], inplace=True)\n",
    "    test_data = test_data.dropna(how = 'any') \n",
    "    \n",
    "    X_train = []\n",
    "    for sentence in train_data['document']:\n",
    "        temp_X = tokenizer.morphs(sentence) # 토큰화\n",
    "        temp_X = [word for word in temp_X if not word in stopwords] # 불용어 제거\n",
    "        X_train.append(temp_X)\n",
    "\n",
    "    X_test = []\n",
    "    for sentence in test_data['document']:\n",
    "        temp_X = tokenizer.morphs(sentence) # 토큰화\n",
    "        temp_X = [word for word in temp_X if not word in stopwords] # 불용어 제거\n",
    "        X_test.append(temp_X)\n",
    "    \n",
    "    words = np.concatenate(X_train).tolist()\n",
    "    counter = Counter(words)\n",
    "    counter = counter.most_common(10000-4)\n",
    "    vocab = ['<PAD>', '<BOS>', '<UNK>', '<UNUSED>'] + [key for key, _ in counter]\n",
    "    word_to_index = {word:index for index, word in enumerate(vocab)}\n",
    "        \n",
    "    def wordlist_to_indexlist(wordlist):\n",
    "        return [word_to_index[word] if word in word_to_index else word_to_index['<PAD>'] for word in wordlist]\n",
    "        \n",
    "    X_train = list(map(wordlist_to_indexlist, X_train))\n",
    "    X_test = list(map(wordlist_to_indexlist, X_test))\n",
    "        \n",
    "    return X_train, np.array(list(train_data['label'])), X_test, np.array(list(test_data['label'])), word_to_index"
   ]
  },
  {
   "cell_type": "code",
   "execution_count": 4,
   "id": "11f8e40c",
   "metadata": {},
   "outputs": [],
   "source": [
    "X_train, y_train, X_test, y_test, word_to_index = load_data(train_data, test_data) "
   ]
  },
  {
   "cell_type": "code",
   "execution_count": 5,
   "id": "593db50b",
   "metadata": {},
   "outputs": [],
   "source": [
    "index_to_word = {index:word for word, index in word_to_index.items()}"
   ]
  },
  {
   "cell_type": "code",
   "execution_count": 6,
   "id": "8f277340",
   "metadata": {},
   "outputs": [],
   "source": [
    "# 문장 1개를 활용할 딕셔너리와 함께 주면, 단어 인덱스 리스트 벡터로 변환해 주는 함수입니다. \n",
    "# 단, 모든 문장은 <BOS>로 시작하는 것으로 합니다. \n",
    "def get_encoded_sentence(sentence, word_to_index):\n",
    "    return [word_to_index['<BOS>']]+[word_to_index[word] if word in word_to_index else word_to_index['<UNK>'] for word in sentence.split()]\n",
    "\n",
    "# 여러 개의 문장 리스트를 한꺼번에 단어 인덱스 리스트 벡터로 encode해 주는 함수입니다. \n",
    "def get_encoded_sentences(sentences, word_to_index):\n",
    "    return [get_encoded_sentence(sentence, word_to_index) for sentence in sentences]\n",
    "\n",
    "# 숫자 벡터로 encode된 문장을 원래대로 decode하는 함수입니다. \n",
    "def get_decoded_sentence(encoded_sentence, index_to_word):\n",
    "    return ' '.join(index_to_word[index] if index in index_to_word else '<UNK>' for index in encoded_sentence[1:])  #[1:]를 통해 <BOS>를 제외\n",
    "\n",
    "# 여러 개의 숫자 벡터로 encode된 문장을 한꺼번에 원래대로 decode하는 함수입니다. \n",
    "def get_decoded_sentences(encoded_sentences, index_to_word):\n",
    "    return [get_decoded_sentence(encoded_sentence, index_to_word) for encoded_sentence in encoded_sentences]"
   ]
  },
  {
   "cell_type": "markdown",
   "id": "f3c48a1d",
   "metadata": {},
   "source": [
    "## 모델 구성을 위한 데이터 분석과 가공"
   ]
  },
  {
   "cell_type": "code",
   "execution_count": 7,
   "id": "c54f2664",
   "metadata": {},
   "outputs": [
    {
     "name": "stdout",
     "output_type": "stream",
     "text": [
      "[32, 74, 919, 4, 4, 39, 228, 20, 33, 748]\n",
      "라벨:  0\n",
      "1번째 리뷰 문장 길이:  10\n",
      "2번째 리뷰 문장 길이:  17\n"
     ]
    }
   ],
   "source": [
    "print(X_train[0])  # 1번째 리뷰데이터\n",
    "print('라벨: ', y_train[0])  # 1번째 리뷰데이터의 라벨\n",
    "print('1번째 리뷰 문장 길이: ', len(X_train[0]))\n",
    "print('2번째 리뷰 문장 길이: ', len(X_train[1]))"
   ]
  },
  {
   "cell_type": "code",
   "execution_count": 8,
   "id": "a2a2b854",
   "metadata": {},
   "outputs": [
    {
     "name": "stdout",
     "output_type": "stream",
     "text": [
      "문장길이 평균 :  15.96940191154864\n",
      "문장길이 최대 :  116\n",
      "문장길이 표준편차 :  12.843571191092\n",
      "pad_sequences maxlen :  41\n",
      "전체 문장의 0.9342988343341575%가 maxlen 설정값 이내에 포함됩니다. \n"
     ]
    }
   ],
   "source": [
    "total_data_text = list(X_train) + list(X_test)\n",
    "# 텍스트데이터 문장길이의 리스트를 생성한 후\n",
    "num_tokens = [len(tokens) for tokens in total_data_text]\n",
    "num_tokens = np.array(num_tokens)\n",
    "# 문장길이의 평균값, 최대값, 표준편차를 계산해 본다. \n",
    "print('문장길이 평균 : ', np.mean(num_tokens))\n",
    "print('문장길이 최대 : ', np.max(num_tokens))\n",
    "print('문장길이 표준편차 : ', np.std(num_tokens))\n",
    "\n",
    "# 예를들어, 최대 길이를 (평균 + 2*표준편차)로 한다면,  \n",
    "max_tokens = np.mean(num_tokens) + 2 * np.std(num_tokens)\n",
    "maxlen = int(max_tokens)\n",
    "print('pad_sequences maxlen : ', maxlen)\n",
    "print('전체 문장의 {}%가 maxlen 설정값 이내에 포함됩니다. '.format(np.sum(num_tokens < max_tokens) / len(num_tokens)))"
   ]
  },
  {
   "cell_type": "code",
   "execution_count": 9,
   "id": "7f81d445",
   "metadata": {},
   "outputs": [
    {
     "name": "stdout",
     "output_type": "stream",
     "text": [
      "(146182, 41)\n",
      "(49157, 41)\n"
     ]
    }
   ],
   "source": [
    "X_train = keras.preprocessing.sequence.pad_sequences(X_train,\n",
    "                                                        value=word_to_index['<PAD>'],\n",
    "                                                        padding='pre',\n",
    "                                                        maxlen=maxlen)\n",
    "\n",
    "X_test = keras.preprocessing.sequence.pad_sequences(X_test,\n",
    "                                                       value=word_to_index['<PAD>'],\n",
    "                                                       padding='pre',\n",
    "                                                       maxlen=maxlen)\n",
    "\n",
    "print(X_train.shape)\n",
    "print(X_test.shape)"
   ]
  },
  {
   "cell_type": "markdown",
   "id": "5d3e7d60",
   "metadata": {},
   "source": [
    "## 모델 구성"
   ]
  },
  {
   "cell_type": "markdown",
   "id": "b24f1eae",
   "metadata": {},
   "source": [
    "하이퍼파라메터"
   ]
  },
  {
   "cell_type": "code",
   "execution_count": 10,
   "id": "2fb988d7",
   "metadata": {},
   "outputs": [],
   "source": [
    "vocab_size = 10000    # 어휘 사전의 크기입니다(10,000개의 단어)\n",
    "word_vector_dim = 41  # 워드 벡터의 차원 수 (변경 가능한 하이퍼파라미터)"
   ]
  },
  {
   "cell_type": "markdown",
   "id": "381dee3d",
   "metadata": {},
   "source": [
    "### LSTM"
   ]
  },
  {
   "cell_type": "code",
   "execution_count": 11,
   "id": "392a2756",
   "metadata": {
    "scrolled": true
   },
   "outputs": [
    {
     "name": "stdout",
     "output_type": "stream",
     "text": [
      "Model: \"sequential\"\n",
      "_________________________________________________________________\n",
      "Layer (type)                 Output Shape              Param #   \n",
      "=================================================================\n",
      "embedding (Embedding)        (None, None, 41)          410000    \n",
      "_________________________________________________________________\n",
      "lstm (LSTM)                  (None, 16)                3712      \n",
      "_________________________________________________________________\n",
      "dense (Dense)                (None, 8)                 136       \n",
      "_________________________________________________________________\n",
      "dense_1 (Dense)              (None, 1)                 9         \n",
      "=================================================================\n",
      "Total params: 413,857\n",
      "Trainable params: 413,857\n",
      "Non-trainable params: 0\n",
      "_________________________________________________________________\n"
     ]
    }
   ],
   "source": [
    "# model 설계\n",
    "model_LSTM = tf.keras.Sequential()\n",
    "model_LSTM.add(tf.keras.layers.Embedding(vocab_size, word_vector_dim, input_shape=(None,)))\n",
    "model_LSTM.add(tf.keras.layers.LSTM(16))   # 가장 널리 쓰이는 RNN인 LSTM 레이어를 사용하였습니다. 이때 LSTM state 벡터의 차원수는 8로 하였습니다. (변경 가능)\n",
    "model_LSTM.add(tf.keras.layers.Dense(8, activation='relu'))\n",
    "model_LSTM.add(tf.keras.layers.Dense(1, activation='sigmoid'))  # 최종 출력은 긍정/부정을 나타내는 1dim 입니다.\n",
    "\n",
    "model_LSTM.summary()"
   ]
  },
  {
   "cell_type": "markdown",
   "id": "e7bbc311",
   "metadata": {},
   "source": [
    "### CNN"
   ]
  },
  {
   "cell_type": "code",
   "execution_count": 12,
   "id": "5fd7906f",
   "metadata": {},
   "outputs": [
    {
     "name": "stdout",
     "output_type": "stream",
     "text": [
      "Model: \"sequential_1\"\n",
      "_________________________________________________________________\n",
      "Layer (type)                 Output Shape              Param #   \n",
      "=================================================================\n",
      "embedding_1 (Embedding)      (None, None, 41)          410000    \n",
      "_________________________________________________________________\n",
      "conv1d (Conv1D)              (None, None, 16)          4608      \n",
      "_________________________________________________________________\n",
      "max_pooling1d (MaxPooling1D) (None, None, 16)          0         \n",
      "_________________________________________________________________\n",
      "conv1d_1 (Conv1D)            (None, None, 16)          1808      \n",
      "_________________________________________________________________\n",
      "global_max_pooling1d (Global (None, 16)                0         \n",
      "_________________________________________________________________\n",
      "dense_2 (Dense)              (None, 8)                 136       \n",
      "_________________________________________________________________\n",
      "dense_3 (Dense)              (None, 1)                 9         \n",
      "=================================================================\n",
      "Total params: 416,561\n",
      "Trainable params: 416,561\n",
      "Non-trainable params: 0\n",
      "_________________________________________________________________\n"
     ]
    }
   ],
   "source": [
    "model_CNN = tf.keras.Sequential()\n",
    "model_CNN.add(tf.keras.layers.Embedding(vocab_size, word_vector_dim, input_shape=(None,)))\n",
    "model_CNN.add(tf.keras.layers.Conv1D(16, 7, activation='relu'))\n",
    "model_CNN.add(tf.keras.layers.MaxPooling1D(5))\n",
    "model_CNN.add(tf.keras.layers.Conv1D(16, 7, activation='relu'))\n",
    "model_CNN.add(tf.keras.layers.GlobalMaxPooling1D())\n",
    "model_CNN.add(tf.keras.layers.Dense(8, activation='relu'))\n",
    "model_CNN.add(tf.keras.layers.Dense(1, activation='sigmoid'))  # 최종 출력은 긍정/부정을 나타내는 1dim 입니다.\n",
    "\n",
    "model_CNN.summary()"
   ]
  },
  {
   "cell_type": "markdown",
   "id": "533ee9f0",
   "metadata": {},
   "source": [
    "### GlobalMaxPooling1D"
   ]
  },
  {
   "cell_type": "code",
   "execution_count": 13,
   "id": "f4b1c00a",
   "metadata": {},
   "outputs": [
    {
     "name": "stdout",
     "output_type": "stream",
     "text": [
      "Model: \"sequential_2\"\n",
      "_________________________________________________________________\n",
      "Layer (type)                 Output Shape              Param #   \n",
      "=================================================================\n",
      "embedding_2 (Embedding)      (None, None, 41)          410000    \n",
      "_________________________________________________________________\n",
      "global_max_pooling1d_1 (Glob (None, 41)                0         \n",
      "_________________________________________________________________\n",
      "dense_4 (Dense)              (None, 8)                 336       \n",
      "_________________________________________________________________\n",
      "dense_5 (Dense)              (None, 1)                 9         \n",
      "=================================================================\n",
      "Total params: 410,345\n",
      "Trainable params: 410,345\n",
      "Non-trainable params: 0\n",
      "_________________________________________________________________\n"
     ]
    }
   ],
   "source": [
    "model_GMP = tf.keras.Sequential()\n",
    "model_GMP.add(tf.keras.layers.Embedding(vocab_size, word_vector_dim, input_shape=(None,)))\n",
    "model_GMP.add(tf.keras.layers.GlobalMaxPooling1D())\n",
    "model_GMP.add(tf.keras.layers.Dense(8, activation='relu'))\n",
    "model_GMP.add(tf.keras.layers.Dense(1, activation='sigmoid'))  # 최종 출력은 긍정/부정을 나타내는 1dim 입니다.\n",
    "\n",
    "model_GMP.summary()"
   ]
  },
  {
   "cell_type": "markdown",
   "id": "e03039b3",
   "metadata": {},
   "source": [
    "### validation set 만들기"
   ]
  },
  {
   "cell_type": "code",
   "execution_count": 14,
   "id": "aa3f6e1d",
   "metadata": {},
   "outputs": [],
   "source": [
    "X_train, X_val, y_train, y_val = train_test_split(X_train, y_train, test_size=0.2, random_state=100)"
   ]
  },
  {
   "cell_type": "markdown",
   "id": "1e26bcce",
   "metadata": {},
   "source": [
    "## 모델 훈련"
   ]
  },
  {
   "cell_type": "code",
   "execution_count": 15,
   "id": "a2153a99",
   "metadata": {},
   "outputs": [],
   "source": [
    "early_stopping = EarlyStopping(monitor='val_loss', mode='min', verbose=1, patience=10)\n",
    "\n",
    "epochs=20"
   ]
  },
  {
   "cell_type": "markdown",
   "id": "1e43e87b",
   "metadata": {},
   "source": [
    "### LSTM"
   ]
  },
  {
   "cell_type": "code",
   "execution_count": 16,
   "id": "a422d3e5",
   "metadata": {
    "scrolled": false
   },
   "outputs": [
    {
     "name": "stdout",
     "output_type": "stream",
     "text": [
      "Epoch 1/20\n",
      "229/229 [==============================] - 5s 8ms/step - loss: 0.4537 - accuracy: 0.7905 - val_loss: 0.3605 - val_accuracy: 0.8431\n",
      "Epoch 2/20\n",
      "229/229 [==============================] - 1s 6ms/step - loss: 0.3305 - accuracy: 0.8601 - val_loss: 0.3560 - val_accuracy: 0.8440\n",
      "Epoch 3/20\n",
      "229/229 [==============================] - 1s 6ms/step - loss: 0.3082 - accuracy: 0.8706 - val_loss: 0.3499 - val_accuracy: 0.8491\n",
      "Epoch 4/20\n",
      "229/229 [==============================] - 1s 5ms/step - loss: 0.2910 - accuracy: 0.8797 - val_loss: 0.3469 - val_accuracy: 0.8507\n",
      "Epoch 5/20\n",
      "229/229 [==============================] - 1s 6ms/step - loss: 0.2750 - accuracy: 0.8872 - val_loss: 0.3509 - val_accuracy: 0.8512\n",
      "Epoch 6/20\n",
      "229/229 [==============================] - 1s 5ms/step - loss: 0.2583 - accuracy: 0.8955 - val_loss: 0.3597 - val_accuracy: 0.8507\n",
      "Epoch 7/20\n",
      "229/229 [==============================] - 1s 6ms/step - loss: 0.2429 - accuracy: 0.9022 - val_loss: 0.3678 - val_accuracy: 0.8478\n",
      "Epoch 8/20\n",
      "229/229 [==============================] - 1s 5ms/step - loss: 0.2298 - accuracy: 0.9074 - val_loss: 0.3801 - val_accuracy: 0.8479\n",
      "Epoch 9/20\n",
      "229/229 [==============================] - 1s 6ms/step - loss: 0.2161 - accuracy: 0.9128 - val_loss: 0.4028 - val_accuracy: 0.8439\n",
      "Epoch 10/20\n",
      "229/229 [==============================] - 1s 5ms/step - loss: 0.2038 - accuracy: 0.9181 - val_loss: 0.4136 - val_accuracy: 0.8464\n",
      "Epoch 11/20\n",
      "229/229 [==============================] - 1s 6ms/step - loss: 0.1932 - accuracy: 0.9221 - val_loss: 0.4355 - val_accuracy: 0.8448\n",
      "Epoch 12/20\n",
      "229/229 [==============================] - 1s 5ms/step - loss: 0.1827 - accuracy: 0.9273 - val_loss: 0.4453 - val_accuracy: 0.8438\n",
      "Epoch 13/20\n",
      "229/229 [==============================] - 1s 6ms/step - loss: 0.1729 - accuracy: 0.9311 - val_loss: 0.4786 - val_accuracy: 0.8428\n",
      "Epoch 14/20\n",
      "229/229 [==============================] - 1s 6ms/step - loss: 0.1632 - accuracy: 0.9347 - val_loss: 0.5021 - val_accuracy: 0.8408\n",
      "Epoch 00014: early stopping\n"
     ]
    }
   ],
   "source": [
    "model_LSTM.compile(optimizer='adam',\n",
    "                   loss='binary_crossentropy',\n",
    "                   metrics=['accuracy'])\n",
    "\n",
    "history_LSTM = model_LSTM.fit(X_train,\n",
    "                              y_train,\n",
    "                              epochs=epochs,\n",
    "                              batch_size=512,\n",
    "                              validation_data=(X_val, y_val),\n",
    "                              callbacks=[early_stopping],\n",
    "                              verbose=1)"
   ]
  },
  {
   "cell_type": "markdown",
   "id": "af54c1c9",
   "metadata": {},
   "source": [
    "### CNN"
   ]
  },
  {
   "cell_type": "code",
   "execution_count": 17,
   "id": "1f769c41",
   "metadata": {},
   "outputs": [
    {
     "name": "stdout",
     "output_type": "stream",
     "text": [
      "Epoch 1/20\n",
      "229/229 [==============================] - 3s 6ms/step - loss: 0.4708 - accuracy: 0.7779 - val_loss: 0.3561 - val_accuracy: 0.8451\n",
      "Epoch 2/20\n",
      "229/229 [==============================] - 1s 5ms/step - loss: 0.3176 - accuracy: 0.8647 - val_loss: 0.3421 - val_accuracy: 0.8513\n",
      "Epoch 3/20\n",
      "229/229 [==============================] - 1s 5ms/step - loss: 0.2770 - accuracy: 0.8861 - val_loss: 0.3401 - val_accuracy: 0.8551\n",
      "Epoch 4/20\n",
      "229/229 [==============================] - 1s 5ms/step - loss: 0.2361 - accuracy: 0.9070 - val_loss: 0.3538 - val_accuracy: 0.8522\n",
      "Epoch 5/20\n",
      "229/229 [==============================] - 1s 5ms/step - loss: 0.1889 - accuracy: 0.9302 - val_loss: 0.3864 - val_accuracy: 0.8456\n",
      "Epoch 6/20\n",
      "229/229 [==============================] - 1s 5ms/step - loss: 0.1420 - accuracy: 0.9513 - val_loss: 0.4347 - val_accuracy: 0.8432\n",
      "Epoch 7/20\n",
      "229/229 [==============================] - 1s 5ms/step - loss: 0.1048 - accuracy: 0.9655 - val_loss: 0.4912 - val_accuracy: 0.8374\n",
      "Epoch 8/20\n",
      "229/229 [==============================] - 1s 5ms/step - loss: 0.0763 - accuracy: 0.9767 - val_loss: 0.5550 - val_accuracy: 0.8341\n",
      "Epoch 9/20\n",
      "229/229 [==============================] - 1s 5ms/step - loss: 0.0574 - accuracy: 0.9831 - val_loss: 0.6129 - val_accuracy: 0.8312\n",
      "Epoch 10/20\n",
      "229/229 [==============================] - 1s 5ms/step - loss: 0.0450 - accuracy: 0.9867 - val_loss: 0.6974 - val_accuracy: 0.8259\n",
      "Epoch 11/20\n",
      "229/229 [==============================] - 1s 5ms/step - loss: 0.0353 - accuracy: 0.9897 - val_loss: 0.7570 - val_accuracy: 0.8262\n",
      "Epoch 12/20\n",
      "229/229 [==============================] - 1s 5ms/step - loss: 0.0293 - accuracy: 0.9916 - val_loss: 0.8049 - val_accuracy: 0.8249\n",
      "Epoch 13/20\n",
      "229/229 [==============================] - 1s 5ms/step - loss: 0.0248 - accuracy: 0.9928 - val_loss: 0.8510 - val_accuracy: 0.8221\n",
      "Epoch 00013: early stopping\n"
     ]
    }
   ],
   "source": [
    "model_CNN.compile(optimizer='adam',\n",
    "                  loss='binary_crossentropy',\n",
    "                  metrics=['accuracy'])\n",
    "\n",
    "history_CNN = model_CNN.fit(X_train,\n",
    "                            y_train,\n",
    "                            epochs=epochs,\n",
    "                            batch_size=512,\n",
    "                            validation_data=(X_val, y_val),\n",
    "                            callbacks=[early_stopping],\n",
    "                            verbose=1)"
   ]
  },
  {
   "cell_type": "markdown",
   "id": "8401e85f",
   "metadata": {},
   "source": [
    "### GlobalMaxPooling1D"
   ]
  },
  {
   "cell_type": "code",
   "execution_count": 18,
   "id": "74d714e9",
   "metadata": {},
   "outputs": [
    {
     "name": "stdout",
     "output_type": "stream",
     "text": [
      "Epoch 1/20\n",
      "229/229 [==============================] - 1s 4ms/step - loss: 0.5471 - accuracy: 0.7361 - val_loss: 0.3913 - val_accuracy: 0.8297\n",
      "Epoch 2/20\n",
      "229/229 [==============================] - 1s 3ms/step - loss: 0.3452 - accuracy: 0.8516 - val_loss: 0.3539 - val_accuracy: 0.8447\n",
      "Epoch 3/20\n",
      "229/229 [==============================] - 1s 3ms/step - loss: 0.2986 - accuracy: 0.8750 - val_loss: 0.3501 - val_accuracy: 0.8471\n",
      "Epoch 4/20\n",
      "229/229 [==============================] - 1s 3ms/step - loss: 0.2686 - accuracy: 0.8900 - val_loss: 0.3563 - val_accuracy: 0.8465\n",
      "Epoch 5/20\n",
      "229/229 [==============================] - 1s 3ms/step - loss: 0.2438 - accuracy: 0.9021 - val_loss: 0.3662 - val_accuracy: 0.8457\n",
      "Epoch 6/20\n",
      "229/229 [==============================] - 1s 3ms/step - loss: 0.2216 - accuracy: 0.9127 - val_loss: 0.3802 - val_accuracy: 0.8445\n",
      "Epoch 7/20\n",
      "229/229 [==============================] - 1s 4ms/step - loss: 0.2012 - accuracy: 0.9228 - val_loss: 0.3967 - val_accuracy: 0.8424\n",
      "Epoch 8/20\n",
      "229/229 [==============================] - 1s 3ms/step - loss: 0.1825 - accuracy: 0.9316 - val_loss: 0.4163 - val_accuracy: 0.8396\n",
      "Epoch 9/20\n",
      "229/229 [==============================] - 1s 4ms/step - loss: 0.1646 - accuracy: 0.9403 - val_loss: 0.4372 - val_accuracy: 0.8373\n",
      "Epoch 10/20\n",
      "229/229 [==============================] - 1s 3ms/step - loss: 0.1476 - accuracy: 0.9477 - val_loss: 0.4624 - val_accuracy: 0.8349\n",
      "Epoch 11/20\n",
      "229/229 [==============================] - 1s 3ms/step - loss: 0.1330 - accuracy: 0.9538 - val_loss: 0.4857 - val_accuracy: 0.8331\n",
      "Epoch 12/20\n",
      "229/229 [==============================] - 1s 3ms/step - loss: 0.1194 - accuracy: 0.9599 - val_loss: 0.5143 - val_accuracy: 0.8311\n",
      "Epoch 13/20\n",
      "229/229 [==============================] - 1s 3ms/step - loss: 0.1069 - accuracy: 0.9657 - val_loss: 0.5434 - val_accuracy: 0.8292\n",
      "Epoch 00013: early stopping\n"
     ]
    }
   ],
   "source": [
    "model_GMP.compile(optimizer='adam',\n",
    "                  loss='binary_crossentropy',\n",
    "                  metrics=['accuracy'])\n",
    "\n",
    "history_GMP = model_GMP.fit(X_train,\n",
    "                            y_train,\n",
    "                            epochs=epochs,\n",
    "                            batch_size=512,\n",
    "                            validation_data=(X_val, y_val),\n",
    "                            callbacks=[early_stopping],\n",
    "                            verbose=1)"
   ]
  },
  {
   "cell_type": "code",
   "execution_count": 19,
   "id": "843adac3",
   "metadata": {},
   "outputs": [
    {
     "name": "stdout",
     "output_type": "stream",
     "text": [
      "1537/1537 - 3s - loss: 0.5044 - accuracy: 0.8400\n",
      "1537/1537 - 3s - loss: 0.8547 - accuracy: 0.8223\n",
      "1537/1537 - 2s - loss: 0.5457 - accuracy: 0.8285\n"
     ]
    }
   ],
   "source": [
    "results_LSTM= model_LSTM.evaluate(X_test,  y_test, verbose=2)\n",
    "results_CNN= model_CNN.evaluate(X_test,  y_test, verbose=2)\n",
    "results_GMP= model_GMP.evaluate(X_test,  y_test, verbose=2)"
   ]
  },
  {
   "cell_type": "markdown",
   "id": "d8993043",
   "metadata": {},
   "source": [
    "## Loss, Accuracy 그래프 시각화"
   ]
  },
  {
   "cell_type": "code",
   "execution_count": 20,
   "id": "f05d65b3",
   "metadata": {},
   "outputs": [],
   "source": [
    "history_LSTM_dict = history_LSTM.history\n",
    "history_CNN_dict = history_CNN.history\n",
    "history_GMP_dict = history_GMP.history"
   ]
  },
  {
   "cell_type": "markdown",
   "id": "6d35d368",
   "metadata": {},
   "source": [
    "### LSTM"
   ]
  },
  {
   "cell_type": "code",
   "execution_count": 21,
   "id": "0f9b4097",
   "metadata": {},
   "outputs": [
    {
     "data": {
      "image/png": "[encoded data removed]",
      "text/plain": [
       "<Figure size 432x288 with 1 Axes>"
      ]
     },
     "metadata": {
      "needs_background": "light"
     },
     "output_type": "display_data"
    },
    {
     "data": {
      "image/png": "[encoded data removed]",
      "text/plain": [
       "<Figure size 432x288 with 1 Axes>"
      ]
     },
     "metadata": {
      "needs_background": "light"
     },
     "output_type": "display_data"
    }
   ],
   "source": [
    "acc = history_LSTM_dict['accuracy']\n",
    "val_acc = history_LSTM_dict['val_accuracy']\n",
    "loss = history_LSTM_dict['loss']\n",
    "val_loss = history_LSTM_dict['val_loss']\n",
    "\n",
    "epochs = range(1, len(acc) + 1)\n",
    "\n",
    "plt.plot(epochs, loss, 'r', label='Training loss')\n",
    "plt.plot(epochs, val_loss, 'b', label='Validation loss')\n",
    "plt.title('LSTM model Training and validation loss')\n",
    "plt.xlabel('Epochs')\n",
    "plt.ylabel('Loss')\n",
    "plt.legend()\n",
    "\n",
    "plt.show()\n",
    "\n",
    "plt.clf()\n",
    "\n",
    "plt.plot(epochs, acc, 'r', label='Training acc')\n",
    "plt.plot(epochs, val_acc, 'b', label='Validation acc')\n",
    "plt.title('LSTM model Training and validation accuracy')\n",
    "plt.xlabel('Epochs')\n",
    "plt.ylabel('Accuracy')\n",
    "plt.legend()\n",
    "\n",
    "plt.show()"
   ]
  },
  {
   "cell_type": "markdown",
   "id": "5e71fe74",
   "metadata": {},
   "source": [
    "### CNN"
   ]
  },
  {
   "cell_type": "code",
   "execution_count": 22,
   "id": "101a1e83",
   "metadata": {},
   "outputs": [
    {
     "data": {
      "image/png": "[encoded data removed]",
      "text/plain": [
       "<Figure size 432x288 with 1 Axes>"
      ]
     },
     "metadata": {
      "needs_background": "light"
     },
     "output_type": "display_data"
    },
    {
     "data": {
      "image/png": "[encoded data removed]",
      "text/plain": [
       "<Figure size 432x288 with 1 Axes>"
      ]
     },
     "metadata": {
      "needs_background": "light"
     },
     "output_type": "display_data"
    }
   ],
   "source": [
    "acc = history_CNN_dict['accuracy']\n",
    "val_acc = history_CNN_dict['val_accuracy']\n",
    "loss = history_CNN_dict['loss']\n",
    "val_loss = history_CNN_dict['val_loss']\n",
    "\n",
    "epochs = range(1, len(acc) + 1)\n",
    "\n",
    "plt.plot(epochs, loss, 'r', label='Training loss')\n",
    "plt.plot(epochs, val_loss, 'b', label='Validation loss')\n",
    "plt.title('CNN model Training and validation loss')\n",
    "plt.xlabel('Epochs')\n",
    "plt.ylabel('Loss')\n",
    "plt.legend()\n",
    "\n",
    "plt.show()\n",
    "\n",
    "plt.clf()\n",
    "\n",
    "plt.plot(epochs, acc, 'r', label='Training acc')\n",
    "plt.plot(epochs, val_acc, 'b', label='Validation acc')\n",
    "plt.title('CNN model Training and validation accuracy')\n",
    "plt.xlabel('Epochs')\n",
    "plt.ylabel('Accuracy')\n",
    "plt.legend()\n",
    "\n",
    "plt.show()"
   ]
  },
  {
   "cell_type": "markdown",
   "id": "52d3cfed",
   "metadata": {},
   "source": [
    "### GlobalMaxPooling1D"
   ]
  },
  {
   "cell_type": "code",
   "execution_count": 23,
   "id": "02854d65",
   "metadata": {},
   "outputs": [
    {
     "data": {
      "image/png": "[encoded data removed]",
      "text/plain": [
       "<Figure size 432x288 with 1 Axes>"
      ]
     },
     "metadata": {
      "needs_background": "light"
     },
     "output_type": "display_data"
    },
    {
     "data": {
      "image/png": "[encoded data removed]",
      "text/plain": [
       "<Figure size 432x288 with 1 Axes>"
      ]
     },
     "metadata": {
      "needs_background": "light"
     },
     "output_type": "display_data"
    }
   ],
   "source": [
    "acc = history_GMP_dict['accuracy']\n",
    "val_acc = history_GMP_dict['val_accuracy']\n",
    "loss = history_GMP_dict['loss']\n",
    "val_loss = history_GMP_dict['val_loss']\n",
    "\n",
    "epochs = range(1, len(acc) + 1)\n",
    "\n",
    "plt.plot(epochs, loss, 'r', label='Training loss')\n",
    "plt.plot(epochs, val_loss, 'b', label='Validation loss')\n",
    "plt.title('GlobalMaxPooling1D model Training and validation loss')\n",
    "plt.xlabel('Epochs')\n",
    "plt.ylabel('Loss')\n",
    "plt.legend()\n",
    "\n",
    "plt.show()\n",
    "\n",
    "plt.clf()\n",
    "\n",
    "plt.plot(epochs, acc, 'r', label='Training acc')\n",
    "plt.plot(epochs, val_acc, 'b', label='Validation acc')\n",
    "plt.title('GlobalMaxPooling1D model Training and validation accuracy')\n",
    "plt.xlabel('Epochs')\n",
    "plt.ylabel('Accuracy')\n",
    "plt.legend()\n",
    "\n",
    "plt.show()"
   ]
  },
  {
   "cell_type": "markdown",
   "id": "9e7552f2",
   "metadata": {},
   "source": [
    "## 학습된 Embedding layer 분석"
   ]
  },
  {
   "cell_type": "markdown",
   "id": "601ef01c",
   "metadata": {},
   "source": [
    "### LSTM"
   ]
  },
  {
   "cell_type": "code",
   "execution_count": 24,
   "id": "c692bb40",
   "metadata": {},
   "outputs": [
    {
     "name": "stdout",
     "output_type": "stream",
     "text": [
      "(10000, 41)\n"
     ]
    }
   ],
   "source": [
    "embedding_layer = model_LSTM.layers[0]\n",
    "weights = embedding_layer.get_weights()[0]\n",
    "print(weights.shape)    # shape: (vocab_size, embedding_dim)"
   ]
  },
  {
   "cell_type": "code",
   "execution_count": 25,
   "id": "5d9aa002",
   "metadata": {},
   "outputs": [],
   "source": [
    "# 학습한 Embedding 파라미터를 파일에 써서 저장합니다. \n",
    "word2vec_file_path = os.getenv('HOME')+'/aiffel/sentiment_classification/data/word2vec_L.txt'\n",
    "f = open(word2vec_file_path, 'w')\n",
    "f.write('{} {}\\n'.format(vocab_size-4, word_vector_dim))  # 몇개의 벡터를 얼마 사이즈로 기재할지 타이틀을 씁니다.\n",
    "\n",
    "# 단어 개수(에서 특수문자 4개는 제외하고)만큼의 워드 벡터를 파일에 기록합니다. \n",
    "vectors = model_LSTM.get_weights()[0]\n",
    "for i in range(4,vocab_size):\n",
    "    f.write('{} {}\\n'.format(index_to_word[i], ' '.join(map(str, list(vectors[i, :])))))\n",
    "f.close()"
   ]
  },
  {
   "cell_type": "code",
   "execution_count": 26,
   "id": "a31c777a",
   "metadata": {},
   "outputs": [],
   "source": [
    "word_vectors = Word2VecKeyedVectors.load_word2vec_format(word2vec_file_path, binary=False)"
   ]
  },
  {
   "cell_type": "code",
   "execution_count": 27,
   "id": "0939134c",
   "metadata": {},
   "outputs": [],
   "source": [
    "vector = word_vectors['만족']"
   ]
  },
  {
   "cell_type": "code",
   "execution_count": 28,
   "id": "a6c1e1f7",
   "metadata": {},
   "outputs": [
    {
     "data": {
      "text/plain": [
       "array([-0.13367875, -0.04139495, -0.13510539,  0.02776962,  0.02958685,\n",
       "       -0.11695593, -0.00385209,  0.07329651,  0.04752306, -0.00355844,\n",
       "       -0.07286004, -0.0530297 , -0.03841142,  0.10305776, -0.02477401,\n",
       "        0.04463208,  0.1438937 , -0.02264426,  0.13845952, -0.1153179 ,\n",
       "        0.08768571,  0.08703138, -0.0673189 , -0.05560126, -0.04570829,\n",
       "       -0.01634182,  0.0582044 , -0.01185945, -0.0241849 , -0.05382815,\n",
       "       -0.00539506, -0.14445665,  0.16043381,  0.12245699,  0.06408056,\n",
       "       -0.01955932, -0.08483909,  0.0572652 ,  0.09389755, -0.07952701,\n",
       "        0.07901199], dtype=float32)"
      ]
     },
     "execution_count": 28,
     "metadata": {},
     "output_type": "execute_result"
    }
   ],
   "source": [
    "vector"
   ]
  },
  {
   "cell_type": "code",
   "execution_count": 29,
   "id": "fde7520b",
   "metadata": {},
   "outputs": [
    {
     "data": {
      "text/plain": [
       "[('재미없', 0.9549404978752136),\n",
       " ('뻔했', 0.9504951238632202),\n",
       " ('왜곡', 0.9472715854644775),\n",
       " ('억지', 0.9423035979270935),\n",
       " ('식상', 0.9413183927536011),\n",
       " ('건만', 0.9404082298278809),\n",
       " ('어설프', 0.9401983618736267),\n",
       " ('꼴', 0.9384808540344238),\n",
       " ('22', 0.9380655288696289),\n",
       " ('일방', 0.9367996454238892)]"
      ]
     },
     "execution_count": 29,
     "metadata": {},
     "output_type": "execute_result"
    }
   ],
   "source": [
    "word_vectors.similar_by_word(\"실망\")"
   ]
  },
  {
   "cell_type": "markdown",
   "id": "0b8f1d8a",
   "metadata": {},
   "source": [
    "### CNN"
   ]
  },
  {
   "cell_type": "code",
   "execution_count": 30,
   "id": "03f57869",
   "metadata": {},
   "outputs": [
    {
     "name": "stdout",
     "output_type": "stream",
     "text": [
      "(10000, 41)\n"
     ]
    }
   ],
   "source": [
    "embedding_layer = model_CNN.layers[0]\n",
    "weights = embedding_layer.get_weights()[0]\n",
    "print(weights.shape)    # shape: (vocab_size, embedding_dim)"
   ]
  },
  {
   "cell_type": "code",
   "execution_count": 31,
   "id": "d3cd9563",
   "metadata": {},
   "outputs": [],
   "source": [
    "# 학습한 Embedding 파라미터를 파일에 써서 저장합니다. \n",
    "word2vec_file_path = os.getenv('HOME')+'/aiffel/sentiment_classification/data/word2vec_C.txt'\n",
    "f = open(word2vec_file_path, 'w')\n",
    "f.write('{} {}\\n'.format(vocab_size-4, word_vector_dim))  # 몇개의 벡터를 얼마 사이즈로 기재할지 타이틀을 씁니다.\n",
    "\n",
    "# 단어 개수(에서 특수문자 4개는 제외하고)만큼의 워드 벡터를 파일에 기록합니다. \n",
    "vectors = model_CNN.get_weights()[0]\n",
    "for i in range(4,vocab_size):\n",
    "    f.write('{} {}\\n'.format(index_to_word[i], ' '.join(map(str, list(vectors[i, :])))))\n",
    "f.close()"
   ]
  },
  {
   "cell_type": "code",
   "execution_count": 32,
   "id": "5d5e3a09",
   "metadata": {},
   "outputs": [],
   "source": [
    "word_vectors = Word2VecKeyedVectors.load_word2vec_format(word2vec_file_path, binary=False)"
   ]
  },
  {
   "cell_type": "code",
   "execution_count": 33,
   "id": "e9dcb5ee",
   "metadata": {},
   "outputs": [
    {
     "data": {
      "text/plain": [
       "array([ 0.03359465, -0.06119943, -0.0584445 ,  0.01862429,  0.20294802,\n",
       "        0.04783661, -0.18208675, -0.10910131,  0.01224909,  0.17081371,\n",
       "        0.09962538,  0.15279342, -0.16878287, -0.0452942 , -0.05371694,\n",
       "       -0.17450334, -0.1017643 , -0.07569425,  0.09138951, -0.13677399,\n",
       "       -0.03044802,  0.04477146, -0.02359182,  0.07880712,  0.02340422,\n",
       "       -0.14443442,  0.0628894 ,  0.08564871, -0.07327683,  0.05854724,\n",
       "        0.1345835 , -0.24441428,  0.05764474, -0.0975018 ,  0.16350792,\n",
       "       -0.00279534, -0.17176127,  0.09971622,  0.11889676,  0.12871121,\n",
       "        0.15356863], dtype=float32)"
      ]
     },
     "execution_count": 33,
     "metadata": {},
     "output_type": "execute_result"
    }
   ],
   "source": [
    "vector = word_vectors['만족']\n",
    "vector"
   ]
  },
  {
   "cell_type": "code",
   "execution_count": 34,
   "id": "6f629ee5",
   "metadata": {},
   "outputs": [
    {
     "data": {
      "text/plain": [
       "[('쓰레', 0.8283827304840088),\n",
       " ('을껄', 0.8275079131126404),\n",
       " ('역겨웠', 0.8132032752037048),\n",
       " ('그다지', 0.8131734728813171),\n",
       " ('협박', 0.8068961501121521),\n",
       " ('뻥튀기', 0.8067506551742554),\n",
       " ('콩가루', 0.8051186203956604),\n",
       " ('줄리아로버츠', 0.805000901222229),\n",
       " ('사도', 0.8042213916778564),\n",
       " ('거북', 0.8008834719657898)]"
      ]
     },
     "execution_count": 34,
     "metadata": {},
     "output_type": "execute_result"
    }
   ],
   "source": [
    "word_vectors.similar_by_word(\"실망\")"
   ]
  },
  {
   "cell_type": "markdown",
   "id": "b8ddf205",
   "metadata": {},
   "source": [
    "### GlobalMaxPooling1D"
   ]
  },
  {
   "cell_type": "code",
   "execution_count": 35,
   "id": "ff33b1e4",
   "metadata": {},
   "outputs": [
    {
     "name": "stdout",
     "output_type": "stream",
     "text": [
      "(10000, 41)\n"
     ]
    }
   ],
   "source": [
    "embedding_layer = model_GMP.layers[0]\n",
    "weights = embedding_layer.get_weights()[0]\n",
    "print(weights.shape)    # shape: (vocab_size, embedding_dim)"
   ]
  },
  {
   "cell_type": "code",
   "execution_count": 36,
   "id": "9e320f08",
   "metadata": {},
   "outputs": [],
   "source": [
    "# 학습한 Embedding 파라미터를 파일에 써서 저장합니다. \n",
    "word2vec_file_path = os.getenv('HOME')+'/aiffel/sentiment_classification/data/word2vec_G.txt'\n",
    "f = open(word2vec_file_path, 'w')\n",
    "f.write('{} {}\\n'.format(vocab_size-4, word_vector_dim))  # 몇개의 벡터를 얼마 사이즈로 기재할지 타이틀을 씁니다.\n",
    "\n",
    "# 단어 개수(에서 특수문자 4개는 제외하고)만큼의 워드 벡터를 파일에 기록합니다. \n",
    "vectors = model_GMP.get_weights()[0]\n",
    "for i in range(4,vocab_size):\n",
    "    f.write('{} {}\\n'.format(index_to_word[i], ' '.join(map(str, list(vectors[i, :])))))\n",
    "f.close()"
   ]
  },
  {
   "cell_type": "code",
   "execution_count": 37,
   "id": "2f48cfdf",
   "metadata": {},
   "outputs": [],
   "source": [
    "word_vectors = Word2VecKeyedVectors.load_word2vec_format(word2vec_file_path, binary=False)"
   ]
  },
  {
   "cell_type": "code",
   "execution_count": 38,
   "id": "4af5a922",
   "metadata": {},
   "outputs": [
    {
     "data": {
      "text/plain": [
       "array([-0.05371884,  0.06630457, -0.10263552, -0.08251883, -0.04354342,\n",
       "        0.0375594 , -0.00521649, -0.16827232, -0.00081135, -0.10451351,\n",
       "        0.16887288, -0.08985195, -0.11474197, -0.1179129 ,  0.00145721,\n",
       "       -0.14863105, -0.10219771,  0.16862895, -0.01438947, -0.00818843,\n",
       "       -0.11938372, -0.12306859, -0.03083792,  0.05597275, -0.11500738,\n",
       "        0.05927687, -0.09237466, -0.01026276, -0.02110372, -0.00312618,\n",
       "       -0.13947852,  0.16279742,  0.0366486 , -0.15017664,  0.01791321,\n",
       "       -0.00055329, -0.03802097, -0.10630622,  0.06554256,  0.02787033,\n",
       "       -0.11305562], dtype=float32)"
      ]
     },
     "execution_count": 38,
     "metadata": {},
     "output_type": "execute_result"
    }
   ],
   "source": [
    "vector = word_vectors['만족']\n",
    "vector"
   ]
  },
  {
   "cell_type": "code",
   "execution_count": 39,
   "id": "dc421cc4",
   "metadata": {},
   "outputs": [
    {
     "data": {
      "text/plain": [
       "[('누르', 0.7496523261070251),\n",
       " ('총싸움', 0.723591148853302),\n",
       " ('막혀', 0.722227156162262),\n",
       " ('--;', 0.702759861946106),\n",
       " ('0', 0.6925692558288574),\n",
       " ('킥', 0.6874768733978271),\n",
       " ('억지', 0.6837041974067688),\n",
       " ('맺', 0.677971601486206),\n",
       " ('력', 0.6766816973686218),\n",
       " ('과한', 0.669981062412262)]"
      ]
     },
     "execution_count": 39,
     "metadata": {},
     "output_type": "execute_result"
    }
   ],
   "source": [
    "word_vectors.similar_by_word(\"실망\")"
   ]
  },
  {
   "cell_type": "markdown",
   "id": "479f1165",
   "metadata": {},
   "source": [
    "## 한국어 Word2Vec 임베딩 활용하여 성능 개선"
   ]
  },
  {
   "cell_type": "code",
   "execution_count": 40,
   "id": "d76c80b4",
   "metadata": {},
   "outputs": [],
   "source": [
    "from gensim.models import Word2Vec\n",
    "\n",
    "word2vec_path = os.getenv('HOME')+'/aiffel/sentiment_classification/data/ko.bin'\n",
    "word2vec = Word2Vec.load(word2vec_path)"
   ]
  },
  {
   "cell_type": "code",
   "execution_count": 41,
   "id": "9d3d9b6a",
   "metadata": {},
   "outputs": [
    {
     "name": "stderr",
     "output_type": "stream",
     "text": [
      "/tmp/ipykernel_894/1301817003.py:1: DeprecationWarning: Call to deprecated `__getitem__` (Method will be removed in 4.0.0, use self.wv.__getitem__() instead).\n",
      "  vector = word2vec['안녕']\n"
     ]
    },
    {
     "data": {
      "text/plain": [
       "array([-4.48758937e-02, -5.26038110e-01,  2.18058324e+00, -2.70098805e-01,\n",
       "       -1.22612631e+00, -4.35174644e-01,  8.78038049e-01,  1.78903091e+00,\n",
       "        5.13344407e-01,  8.00866067e-01,  1.33781850e-01,  4.23676372e-01,\n",
       "        6.25718057e-01, -1.49838462e-01, -2.65716583e-01, -1.18363452e+00,\n",
       "        1.09828494e-01,  6.56335890e-01,  9.90437388e-01, -2.88908720e-01,\n",
       "       -4.82253104e-01, -1.71825096e-01, -5.22048175e-01, -1.37081638e-01,\n",
       "        4.01715070e-01, -3.54384005e-01, -4.38563734e-01,  3.37939188e-02,\n",
       "       -4.21380460e-01, -2.11324722e-01,  5.34786046e-01,  5.26668072e-01,\n",
       "       -3.78847629e-01, -1.59311071e-01,  1.77993524e+00, -1.28354877e-01,\n",
       "        4.53990996e-01,  6.38647795e-01,  3.22042465e-01, -6.49676397e-02,\n",
       "       -9.30086493e-01,  6.84082747e-01, -1.41875729e-01, -1.49376774e+00,\n",
       "        1.44657120e-03,  4.33810472e-01, -7.31874406e-02,  7.40463585e-02,\n",
       "       -6.44519210e-01,  1.11461449e+00, -8.20367783e-02, -5.76601565e-01,\n",
       "        1.71026981e+00,  5.43356836e-01, -1.38096079e-01, -7.13480115e-01,\n",
       "        1.37917042e-01,  1.31351754e-01, -1.64170414e-01,  5.08485079e-01,\n",
       "        1.03430068e+00, -5.08647382e-01,  3.78100970e-03,  4.74166781e-01,\n",
       "        5.89607954e-01,  3.45575511e-01,  8.35864961e-01,  8.41770291e-01,\n",
       "        9.89145637e-01, -2.74089158e-01,  1.25443026e-01,  1.02799308e+00,\n",
       "       -4.82123911e-01, -1.69151232e-01, -2.85922945e-01, -8.49736392e-01,\n",
       "        8.46186206e-02, -1.81830883e+00, -5.13923943e-01, -2.16713548e-01,\n",
       "       -1.31658185e+00, -1.02243495e+00,  8.11321557e-01,  2.19687596e-02,\n",
       "       -6.71579957e-01, -5.98710179e-01, -7.66289771e-01, -1.32737505e+00,\n",
       "       -6.29475042e-02, -1.27141750e+00, -9.70623434e-01, -2.50643134e-01,\n",
       "        5.53779125e-01, -9.36333358e-01, -3.81229192e-01,  9.78302062e-02,\n",
       "       -1.73168528e+00,  2.34338660e-02,  5.90916038e-01,  1.10269034e+00,\n",
       "       -1.77305982e-01,  5.86390793e-01, -2.25778148e-01,  1.85514867e-01,\n",
       "       -8.05007041e-01,  5.64193904e-01, -9.69711125e-01, -3.67523193e-01,\n",
       "       -1.23882771e+00, -4.01369512e-01, -1.19125068e-01, -4.65394631e-02,\n",
       "       -2.21846491e-01,  1.82357505e-02,  4.56880897e-01, -2.14156687e-01,\n",
       "       -3.06043118e-01, -1.71571866e-01,  6.13820255e-01, -4.26191688e-01,\n",
       "        5.79584062e-01,  1.03633344e-01,  6.82440162e-01, -1.95503905e-01,\n",
       "        5.96677661e-01,  6.77304804e-01, -1.25491381e+00,  3.14139165e-02,\n",
       "        1.33252859e+00, -1.52929530e-01, -5.01865447e-01,  4.62395728e-01,\n",
       "        6.49050236e-01,  4.93880659e-01,  1.26435041e-01,  3.00690591e-01,\n",
       "        3.55630815e-01, -2.70101190e-01,  5.62555134e-01, -1.03386605e+00,\n",
       "       -3.14555407e-01,  3.89042318e-01,  1.03528607e+00, -4.63004947e-01,\n",
       "       -6.14613831e-01, -2.57924795e-01, -1.05875695e+00,  1.89552337e-01,\n",
       "        5.63951731e-01,  1.79895550e-01,  2.87300587e-01, -1.12558770e+00,\n",
       "       -1.56612837e+00,  6.86075389e-01,  6.99334323e-01, -3.55547547e-01,\n",
       "        6.66430950e-01, -2.01317817e-01,  9.82120037e-01,  1.48326457e-02,\n",
       "        5.74257970e-01,  5.32084644e-01, -5.38365960e-01,  1.24933779e-01,\n",
       "       -3.11034471e-01,  5.36548980e-02,  4.54503685e-01,  1.85251966e-01,\n",
       "        1.31985113e-01,  2.39911228e-01, -9.13004637e-01, -1.16619909e+00,\n",
       "        8.83497417e-01,  3.04435015e-01, -7.70304739e-01, -7.39239752e-02,\n",
       "       -1.10028563e-02,  5.21843016e-01, -9.24460530e-01,  5.88730514e-01,\n",
       "        6.41907156e-02, -5.43511808e-01, -2.87139893e-01,  2.77004838e-01,\n",
       "       -4.67248596e-02, -5.69744051e-01, -6.73322231e-02,  3.29014838e-01,\n",
       "       -6.28687918e-01, -5.23731291e-01,  6.91283345e-01, -1.03363819e-01,\n",
       "       -7.24156022e-01, -5.24323702e-01, -5.47199488e-01,  2.67527951e-03,\n",
       "        5.74104823e-02, -1.35755897e+00,  4.52745229e-01, -3.91733170e-01],\n",
       "      dtype=float32)"
      ]
     },
     "execution_count": 41,
     "metadata": {},
     "output_type": "execute_result"
    }
   ],
   "source": [
    "vector = word2vec['안녕']\n",
    "vector"
   ]
  },
  {
   "cell_type": "code",
   "execution_count": 42,
   "id": "e5eeba3e",
   "metadata": {},
   "outputs": [
    {
     "name": "stderr",
     "output_type": "stream",
     "text": [
      "/tmp/ipykernel_894/4247654489.py:8: DeprecationWarning: Call to deprecated `__contains__` (Method will be removed in 4.0.0, use self.wv.__contains__() instead).\n",
      "  if index_to_word[i] in word2vec:\n",
      "/tmp/ipykernel_894/4247654489.py:9: DeprecationWarning: Call to deprecated `__getitem__` (Method will be removed in 4.0.0, use self.wv.__getitem__() instead).\n",
      "  embedding_matrix[i] = word2vec[index_to_word[i]]\n"
     ]
    }
   ],
   "source": [
    "vocab_size = 10000    # 어휘 사전의 크기입니다(10,000개의 단어)\n",
    "word_vector_dim = 200  # 워드 벡터의 차원수 (변경가능한 하이퍼파라미터)\n",
    "\n",
    "embedding_matrix = np.random.rand(vocab_size, word_vector_dim)\n",
    "\n",
    "# embedding_matrix에 Word2Vec 워드 벡터를 단어 하나씩마다 차례차례 카피한다.\n",
    "for i in range(4,vocab_size):\n",
    "    if index_to_word[i] in word2vec:\n",
    "        embedding_matrix[i] = word2vec[index_to_word[i]]"
   ]
  },
  {
   "cell_type": "code",
   "execution_count": 43,
   "id": "b8f06687",
   "metadata": {},
   "outputs": [
    {
     "name": "stdout",
     "output_type": "stream",
     "text": [
      "Model: \"sequential_3\"\n",
      "_________________________________________________________________\n",
      "Layer (type)                 Output Shape              Param #   \n",
      "=================================================================\n",
      "embedding_3 (Embedding)      (None, 41, 200)           2000000   \n",
      "_________________________________________________________________\n",
      "lstm_1 (LSTM)                (None, 512)               1460224   \n",
      "_________________________________________________________________\n",
      "dense_6 (Dense)              (None, 8)                 4104      \n",
      "_________________________________________________________________\n",
      "dense_7 (Dense)              (None, 1)                 9         \n",
      "=================================================================\n",
      "Total params: 3,464,337\n",
      "Trainable params: 3,464,337\n",
      "Non-trainable params: 0\n",
      "_________________________________________________________________\n"
     ]
    }
   ],
   "source": [
    "# 모델 구성\n",
    "model_w = keras.Sequential()\n",
    "model_w.add(keras.layers.Embedding(vocab_size, \n",
    "                                 word_vector_dim, \n",
    "                                 embeddings_initializer=Constant(embedding_matrix),  # 카피한 임베딩을 여기서 활용\n",
    "                                 input_length=maxlen,\n",
    "                                 trainable=True))   # trainable을 True로 주면 Fine-tuning\n",
    "model_w.add(keras.layers.LSTM(512))\n",
    "model_w.add(keras.layers.Dense(8, activation='relu'))\n",
    "model_w.add(keras.layers.Dense(1, activation='sigmoid'))  # 최종 출력은 긍정/부정을 나타내는 1dim 입니다.\n",
    "\n",
    "model_w.summary()"
   ]
  },
  {
   "cell_type": "code",
   "execution_count": 44,
   "id": "b19e1349",
   "metadata": {},
   "outputs": [
    {
     "name": "stdout",
     "output_type": "stream",
     "text": [
      "Epoch 1/20\n",
      "229/229 [==============================] - 16s 63ms/step - loss: 0.4497 - accuracy: 0.7835 - val_loss: 0.3600 - val_accuracy: 0.8401\n",
      "Epoch 2/20\n",
      "229/229 [==============================] - 14s 62ms/step - loss: 0.3179 - accuracy: 0.8623 - val_loss: 0.3223 - val_accuracy: 0.8603\n",
      "Epoch 3/20\n",
      "229/229 [==============================] - 14s 63ms/step - loss: 0.2707 - accuracy: 0.8866 - val_loss: 0.3197 - val_accuracy: 0.8598\n",
      "Epoch 4/20\n",
      "229/229 [==============================] - 15s 64ms/step - loss: 0.2330 - accuracy: 0.9055 - val_loss: 0.3194 - val_accuracy: 0.8680\n",
      "Epoch 5/20\n",
      "229/229 [==============================] - 15s 64ms/step - loss: 0.1924 - accuracy: 0.9234 - val_loss: 0.3458 - val_accuracy: 0.8646\n",
      "Epoch 6/20\n",
      "229/229 [==============================] - 15s 65ms/step - loss: 0.1512 - accuracy: 0.9424 - val_loss: 0.3738 - val_accuracy: 0.8627\n",
      "Epoch 7/20\n",
      "229/229 [==============================] - 15s 65ms/step - loss: 0.1102 - accuracy: 0.9586 - val_loss: 0.4345 - val_accuracy: 0.8579\n",
      "Epoch 8/20\n",
      "229/229 [==============================] - 15s 65ms/step - loss: 0.0829 - accuracy: 0.9695 - val_loss: 0.4784 - val_accuracy: 0.8618\n",
      "Epoch 9/20\n",
      "229/229 [==============================] - 15s 66ms/step - loss: 0.0609 - accuracy: 0.9770 - val_loss: 0.5822 - val_accuracy: 0.8599\n",
      "Epoch 10/20\n",
      "229/229 [==============================] - 15s 66ms/step - loss: 0.0481 - accuracy: 0.9822 - val_loss: 0.6493 - val_accuracy: 0.8579\n",
      "Epoch 11/20\n",
      "229/229 [==============================] - 15s 66ms/step - loss: 0.0392 - accuracy: 0.9848 - val_loss: 0.6567 - val_accuracy: 0.8580\n",
      "Epoch 12/20\n",
      "229/229 [==============================] - 15s 66ms/step - loss: 0.0344 - accuracy: 0.9868 - val_loss: 0.7317 - val_accuracy: 0.8548\n",
      "Epoch 13/20\n",
      "229/229 [==============================] - 15s 66ms/step - loss: 0.0259 - accuracy: 0.9897 - val_loss: 0.7558 - val_accuracy: 0.8556\n",
      "Epoch 14/20\n",
      "229/229 [==============================] - 15s 66ms/step - loss: 0.0237 - accuracy: 0.9907 - val_loss: 0.8330 - val_accuracy: 0.8556\n",
      "Epoch 00014: early stopping\n"
     ]
    }
   ],
   "source": [
    "model_w.compile(optimizer='adam',\n",
    "              loss='binary_crossentropy',\n",
    "              metrics=['accuracy'])\n",
    "              \n",
    "epochs=20\n",
    "\n",
    "history_w = model_w.fit(X_train,\n",
    "                    y_train,\n",
    "                    epochs=epochs,\n",
    "                    batch_size=512,\n",
    "                    validation_data=(X_val, y_val),\n",
    "                    callbacks=[early_stopping],\n",
    "                    verbose=1)"
   ]
  },
  {
   "cell_type": "code",
   "execution_count": 45,
   "id": "fea91ce5",
   "metadata": {},
   "outputs": [
    {
     "data": {
      "image/png": "[encoded data removed]",
      "text/plain": [
       "<Figure size 432x288 with 1 Axes>"
      ]
     },
     "metadata": {
      "needs_background": "light"
     },
     "output_type": "display_data"
    },
    {
     "data": {
      "image/png": "[encoded data removed]",
      "text/plain": [
       "<Figure size 432x288 with 1 Axes>"
      ]
     },
     "metadata": {
      "needs_background": "light"
     },
     "output_type": "display_data"
    }
   ],
   "source": [
    "history_w_dict = history_w.history\n",
    "\n",
    "acc = history_w_dict['accuracy']\n",
    "val_acc = history_w_dict['val_accuracy']\n",
    "loss = history_w_dict['loss']\n",
    "val_loss = history_w_dict['val_loss']\n",
    "\n",
    "epochs = range(1, len(acc) + 1)\n",
    "\n",
    "plt.plot(epochs, loss, 'r', label='Training loss')\n",
    "plt.plot(epochs, val_loss, 'b', label='Validation loss')\n",
    "plt.title('Training and validation loss')\n",
    "plt.xlabel('Epochs')\n",
    "plt.ylabel('Loss')\n",
    "plt.legend()\n",
    "\n",
    "plt.show()\n",
    "\n",
    "plt.clf()\n",
    "\n",
    "plt.plot(epochs, acc, 'r', label='Training acc')\n",
    "plt.plot(epochs, val_acc, 'b', label='Validation acc')\n",
    "plt.title('Training and validation accuracy')\n",
    "plt.xlabel('Epochs')\n",
    "plt.ylabel('Accuracy')\n",
    "plt.legend()\n",
    "\n",
    "plt.show()"
   ]
  },
  {
   "cell_type": "markdown",
   "id": "c2b3d652",
   "metadata": {},
   "source": [
    "---\n",
    "## 회고\n",
    "\n",
    "### 루브릭 관련 고려한 점\n",
    "#### 1. 다양한 방법으로 Text Classification 태스크를 성공적으로 구현하였다.    \n",
    "\n",
    "* 여러 모델을 사용해서 성공적으로 시도했다.    \n",
    "\n",
    "#### 2. gensim을 활용하여 자체학습된 혹은 사전학습된 임베딩 레이어를 분석하였다.    \n",
    "\n",
    "* gensim의 유사단어 찾기를 활용하여 자체학습한 임베딩과 사전학습 임베딩을 분석했다.   \n",
    "\n",
    "#### 3. 한국어 Word2Vec을 활용하여 가시적인 성능향상을 달성했다.   \n",
    "\n",
    "* 네이버 영화리뷰 데이터 감성분석 정확도를, 한국어 Word2Vec을 활용해서 모델을 훈련시켰고,   \n",
    "  val_accuracy: 0.8556 으로, 정확도 85% 이상을 달성했다.   \n",
    "---\n",
    "적절한 epoch를 찾는 방법을 찾아보다가 Early stopping 함수를 알게되었음.   \n",
    "Early stopping 함수를 쓰면 validation loss가 증가하는 시점에 훈련을 멈추게 한다.   \n",
    "\n",
    "ko.bin을 불러오는 부분에서 조금 많이 헤맸다.    \n",
    "gensim을 다운그레이드하는 방법도 어떻게 하는건지 몰랐는데, 잼보드에 있는 내용을 참고해서 성공했다.   \n",
    "\n",
    "모델의 레이어에 대한 것도 아직 이해가 잘 안되는 것 같다.   \n",
    "더 찾아보고 공부해야할것같다...   "
   ]
  },
  {
   "cell_type": "markdown",
   "id": "b04efb03",
   "metadata": {},
   "source": [
    "## 참고자료\n",
    "\n",
    "* https://3months.tistory.com/424   \n",
    "\n",
    "* https://wikidocs.net/50739   "
   ]
  }
 ],
 "metadata": {
  "kernelspec": {
   "display_name": "Python 3 (ipykernel)",
   "language": "python",
   "name": "python3"
  },
  "language_info": {
   "codemirror_mode": {
    "name": "ipython",
    "version": 3
   },
   "file_extension": ".py",
   "mimetype": "text/x-python",
   "name": "python",
   "nbconvert_exporter": "python",
   "pygments_lexer": "ipython3",
   "version": "3.9.7"
  }
 },
 "nbformat": 4,
 "nbformat_minor": 5
}
